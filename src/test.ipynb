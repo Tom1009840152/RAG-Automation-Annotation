{
 "cells": [
  {
   "cell_type": "code",
   "id": "initial_id",
   "metadata": {
    "collapsed": true,
    "ExecuteTime": {
     "end_time": "2024-10-15T05:52:29.928595Z",
     "start_time": "2024-10-15T05:52:28.684110Z"
    }
   },
   "source": [
    "import pandas as pd\n",
    "import numpy as np\n",
    "import os\n",
    "\n",
    "# 定义文件路径\n",
    "file_path = os.path.join('..', 'data', 'raw', 'my_log_data.xlsx')\n",
    "df = pd.read_excel(file_path)\n",
    "\n",
    "# 首先将日期列转换为日期格式\n",
    "df['every_date'] = pd.to_datetime(df['every_date'])\n",
    "\n",
    "# 按日期降序排序\n",
    "df_sorted = df.sort_values(by='every_date', ascending=False)\n",
    "\n",
    "# 去除重复值，保留日期最近的一行\n",
    "df_unique = df_sorted.drop_duplicates(subset=['query', 'answer', 'boundary', 'correct'], keep='first')\n",
    "\n",
    "duplicates_removed = len(df) - len(df_unique)\n",
    "# 打印去重后的数据框和去除的重复值数量\n",
    "print(f\"去除了 {duplicates_removed} 个重复值\")\n",
    "\n",
    "#分类----------------------------------------\n",
    "# 计算每个 query 中 boundary 的众数\n",
    "boundary_mode = df_unique.groupby('query')['boundary'].transform(lambda x: x.mode()[0])\n",
    "\n",
    "# 标记 boundary 值等于众数的行为 1，其他为 0\n",
    "df_unique['boundary_mark'] = (df_unique['boundary'] == boundary_mode).astype(int)\n",
    "\n",
    "# 提取 boundary_mark 为 1 的行\n",
    "df_cat = df_unique[df_unique['boundary_mark'] == 1][['query', 'boundary']]\n",
    "\n",
    "# 去重\n",
    "df_cat = df_cat.drop_duplicates()\n",
    "# # 再去除冲突值(先标记再导出)\n",
    "# df_unique['B_unique_count_per_A'] = df_unique.groupby('query')['category'].transform('nunique')\n",
    "#\n",
    "# # 标记违反规则的行：如果B_unique_count_per_A大于1，则标记为True\n",
    "# df_unique['Violation'] = df_unique['B_unique_count_per_A'] > 1\n",
    "#\n",
    "# #导出文件，手工处理后再导入\n",
    "# df_unique.to_excel(\"new_data_m_clean.xlsx\",index = False)\n",
    "\n"
   ],
   "outputs": [
    {
     "name": "stdout",
     "output_type": "stream",
     "text": [
      "去除了 1230 个重复值\n"
     ]
    },
    {
     "name": "stderr",
     "output_type": "stream",
     "text": [
      "C:\\Users\\li_zh\\AppData\\Local\\Temp\\ipykernel_17212\\3584829902.py:27: SettingWithCopyWarning: \n",
      "A value is trying to be set on a copy of a slice from a DataFrame.\n",
      "Try using .loc[row_indexer,col_indexer] = value instead\n",
      "\n",
      "See the caveats in the documentation: https://pandas.pydata.org/pandas-docs/stable/user_guide/indexing.html#returning-a-view-versus-a-copy\n",
      "  df_unique['boundary_mark'] = (df_unique['boundary'] == boundary_mode).astype(int)\n"
     ]
    }
   ],
   "execution_count": 11
  },
  {
   "metadata": {
    "ExecuteTime": {
     "end_time": "2024-10-15T05:38:00.865076Z",
     "start_time": "2024-10-15T05:38:00.248647Z"
    }
   },
   "cell_type": "code",
   "source": [
    "# 假设 df 是你的数据框\n",
    "# 计算每个 query 中 boundary 的众数\n",
    "boundary_mode = df.groupby('query')['boundary'].transform(lambda x: x.mode()[0])\n",
    "\n",
    "# 标记 boundary 值等于众数的行为 1，其他为 0\n",
    "df['boundary_mark'] = (df['boundary'] == boundary_mode).astype(int)\n"
   ],
   "id": "57227a53cf7a962e",
   "outputs": [],
   "execution_count": 8
  },
  {
   "metadata": {
    "ExecuteTime": {
     "end_time": "2024-10-15T05:38:02.517003Z",
     "start_time": "2024-10-15T05:38:01.278234Z"
    }
   },
   "cell_type": "code",
   "source": [
    "\n",
    "# 将 df_remove 保存到本地\n",
    "output_path = os.path.join('..', 'data', 'processed', 'removed_data.xlsx')\n",
    "df.to_excel(output_path, index=False)\n",
    "\n",
    "print(f\"去除的数据已保存到 {output_path}\")"
   ],
   "id": "3c4903b1eeb9fbf8",
   "outputs": [
    {
     "name": "stdout",
     "output_type": "stream",
     "text": [
      "去除的数据已保存到 ..\\data\\processed\\removed_data.xlsx\n"
     ]
    }
   ],
   "execution_count": 9
  },
  {
   "metadata": {},
   "cell_type": "code",
   "outputs": [],
   "execution_count": null,
   "source": "",
   "id": "1652908dda36e9c1"
  }
 ],
 "metadata": {
  "kernelspec": {
   "display_name": "Python 3",
   "language": "python",
   "name": "python3"
  },
  "language_info": {
   "codemirror_mode": {
    "name": "ipython",
    "version": 2
   },
   "file_extension": ".py",
   "mimetype": "text/x-python",
   "name": "python",
   "nbconvert_exporter": "python",
   "pygments_lexer": "ipython2",
   "version": "2.7.6"
  }
 },
 "nbformat": 4,
 "nbformat_minor": 5
}
